{
  "nbformat": 4,
  "nbformat_minor": 0,
  "metadata": {
    "colab": {
      "provenance": []
    },
    "kernelspec": {
      "name": "python3",
      "display_name": "Python 3"
    },
    "accelerator": "GPU"
  },
  "cells": [
    {
      "cell_type": "markdown",
      "metadata": {
        "id": "AF_x5L0e9r8A"
      },
      "source": [
        "# Semantic Search - Wikipedia Question-Answer-Retrieval\n",
        "\n",
        "This examples demonstrates the setup for Question-Answer-Retrieval.\n",
        "\n",
        "You can input a query or a question. The script then uses semantic search\n",
        "to find relevant passages in Simple English Wikipedia (as it is smaller and fits better in RAM).\n",
        "\n",
        "As model, we use: nq-distilbert-base-v1\n",
        "\n",
        "It was trained on the Natural Questions dataset, a dataset with real questions from Google Search together with annotated data from Wikipedia providing the answer. For the passages, we encode the Wikipedia article tile together with the individual text passages."
      ]
    },
    {
      "cell_type": "code",
      "metadata": {
        "id": "hJbZ22zZ7yPi"
      },
      "source": [
        "!pip install -U sentence-transformers\n",
        "!pip install -U datasets"
      ],
      "execution_count": null,
      "outputs": []
    },
    {
      "cell_type": "code",
      "metadata": {
        "id": "6zQLM84377Xf"
      },
      "source": [
        "import json\n",
        "from sentence_transformers import SentenceTransformer, CrossEncoder, util\n",
        "import time\n",
        "import gzip\n",
        "import os\n",
        "import torch\n",
        "import pandas as pd\n",
        "import csv\n",
        "\n",
        "if not torch.cuda.is_available():\n",
        "  print(\"Warning: No GPU found. Please add GPU to your notebook\")\n",
        "\n",
        "\n",
        "# We use the Bi-Encoder to encode all passages, so that we can use it with sematic search\n",
        "model_name = 'nq-distilbert-base-v1'\n",
        "bi_encoder = SentenceTransformer(model_name)\n",
        "top_k = 5  # Number of passages we want to retrieve with the bi-encoder\n",
        "\n",
        "# As dataset, we use Simple English Wikipedia. Compared to the full English wikipedia, it has only\n",
        "# about 170k articles. We split these articles into paragraphs and encode them with the bi-encoder\n",
        "\n",
        "# Load dataset\n",
        "input_filepath = 'wiki_movie_plots_deduped.csv'\n",
        "ds = pd.read_csv(input_filepath)\n",
        "\n",
        "# Select the first 1000 entries\n",
        "ds = ds.head(1000)\n",
        "\n",
        "# Gzip file\n",
        "wikipedia_filepath = \"movie_plots.csv.gz\"\n",
        "ds.to_csv(wikipedia_filepath, index=False, compression='gzip')\n",
        "\n",
        "passages = []\n",
        "with gzip.open(wikipedia_filepath, 'rt', encoding='utf8') as fIn:\n",
        "   # CSV reader\n",
        "    csv_reader = csv.reader(fIn)\n",
        "    # Skip the header line\n",
        "    next(csv_reader)\n",
        "    for line_num, line in enumerate(csv_reader, start=1):\n",
        "        # Extract title and paragraph\n",
        "        title = line[1] if len(line) > 1 else ''\n",
        "        print(title)\n",
        "        paragraph = line[-1] if len(line) > 0 else ''\n",
        "        print(paragraph)\n",
        "        passages.append([title, paragraph])\n",
        "\n",
        "# If you like, you can also limit the number of passages you want to use\n",
        "print(\"Passages:\", len(passages))\n",
        "\n",
        "# To speed things up, pre-computed embeddings are downloaded.\n",
        "# The provided file encoded the passages with the model 'nq-distilbert-base-v1'\n",
        "if model_name == 'nq-distilbert-base-v1':\n",
        "    embeddings_filepath = 'simplewiki-2020-11-01-nq-distilbert-base-v1.pt'\n",
        "    if not os.path.exists(embeddings_filepath):\n",
        "        util.http_get('http://sbert.net/datasets/simplewiki-2020-11-01-nq-distilbert-base-v1.pt', embeddings_filepath)\n",
        "\n",
        "    corpus_embeddings = torch.load(embeddings_filepath)\n",
        "    corpus_embeddings = corpus_embeddings.float()  # Convert embedding file to float\n",
        "    if torch.cuda.is_available():\n",
        "        corpus_embeddings = corpus_embeddings.to('cuda')\n",
        "    corpus_embeddings = corpus_embeddings[:1000]\n",
        "else:  # Here, we compute the corpus_embeddings from scratch (which can take a while depending on the GPU)\n",
        "    corpus_embeddings = bi_encoder.encode([passage[1] for passage in passages[:1000]], convert_to_tensor=True, show_progress_bar=True)"
      ],
      "execution_count": null,
      "outputs": []
    },
    {
      "cell_type": "code",
      "metadata": {
        "id": "ay9y6HdQ8Dx2"
      },
      "source": [
        "def search(query):\n",
        "    # Encode the query using the bi-encoder and find potentially relevant passages\n",
        "    start_time = time.time()\n",
        "    question_embedding = bi_encoder.encode(query, convert_to_tensor=True)\n",
        "    hits = util.semantic_search(question_embedding, corpus_embeddings, top_k=top_k)\n",
        "    hits = hits[0]  # Get the hits for the first query\n",
        "    end_time = time.time()\n",
        "\n",
        "    # Output of top-k hits\n",
        "    print(\"Input question:\", query)\n",
        "    print(\"Results (after {:.3f} seconds):\".format(end_time - start_time))\n",
        "    for hit in hits:\n",
        "      print(\"\\t{:.3f}\\t{}\".format(hit['score'], passages[hit['corpus_id']]))"
      ],
      "execution_count": 41,
      "outputs": []
    },
    {
      "cell_type": "code",
      "metadata": {
        "colab": {
          "base_uri": "https://localhost:8080/"
        },
        "id": "yzYTZ62j8JYv",
        "outputId": "cce87782-2e39-4fba-ad37-29da5355f00b"
      },
      "source": [
        "search(query = \"Documentaries showcasing indigenous peoples' survival and dailylife in Arctic regions\")"
      ],
      "execution_count": 42,
      "outputs": [
        {
          "output_type": "stream",
          "name": "stdout",
          "text": [
            "Input question: Documentaries showcasing indigenous peoples' survival and dailylife in Arctic regions\n",
            "Results (after 0.011 seconds):\n",
            "\t0.317\t['Terrible Teddy, the Grizzly King', 'Lasting just 61 seconds and consisting of two shots, the first shot is set in a wood during winter. The actor representing then vice-president Theodore Roosevelt enthusiastically hurries down a hillside towards a tree in the foreground. He falls once, but rights himself and cocks his rifle. Two other men, bearing signs reading \"His Photographer\" and \"His Press Agent\" respectively, follow him into the shot; the photographer sets up his camera. \"Teddy\" aims his rifle upward at the tree and fells what appears to be a common house cat, which he then proceeds to stab. \"Teddy\" holds his prize aloft, and the press agent takes notes. The second shot is taken in a slightly different part of the wood, on a path. \"Teddy\" rides the path on his horse towards the camera and out to the left of the shot, followed closely by the press agent and photographer, still dutifully holding their signs.']\n",
            "\t0.210\t['Lucky Star', \"Timothy Osborn (Farrell) and Martin Wrenn (Williams) work as linemen for an utility in a rural area. Both flirt with Mary Tucker (Gaynor) who is the daughter of a widowed dairy farmer, As the film begins it is 1917, and America becomes involved in World War I. Both men join the U.S. Army.\\nWhile on the battlefield, Wrenn and Osborn serve in the same unit, and Wrenn is a sergeant. Ordered to deliver food to men at the front, Wrenn instead purloins the truck that was to be used for the delivery for personal use, and Osborn uses a horse-drawn wagon to deliver the food. While going to the front he is injured by shellfire.\\nBoth men return home, and Osborn is now confined to a wheelchair. He and Wrenn vie for Mary's affection. She becomes attached to Osborn and visits him every day. Wrenn, who had been kicked out of the Army, uses money and guile to win over Mary's mother, who pressures her to marry Wrenn. She stops seeing Osborn and agrees to marry Wrenn.\\nIn the end, Osborn regains some use of his legs, walks through snow to confront Wrenn just before he is about to wed Mary. Townspeople intervene in their fight and put Wrenn on a train out of town. Osborn reunites with Mary.\"]\n",
            "\t0.198\t['Shoulder Arms', 'Charlie is in boot camp in the \"awkward squad.\" Once in France he gets no letters from home. He finally gets a package containing limburger cheese which requires a gas mask and which he throws over into the German trench. He goes \"over the top\" and captures thirteen Germans (\"I surrounded them\"), then volunteers to wander through the German lines disguised as a tree trunk. With the help of a French girl he captures the Kaiser and the Crown Prince and is given a statue and victory parade in New York and then ... fellow soldiers wake him from his dream.']\n",
            "\t0.192\t[\"Hell's Heroes\", 'Four men, Bob Sangster, \"Barbwire\" Gibbons, \"Wild Bill\" Kearney, and José, rob the bank in the town of New Jerusalem. José and the cashier is killed, while Barbwire is shot in the shoulder. The three outlaws escape the posse, fleeing into the desert. However, their horses die and they have little water.\\nWhen they reach a water hole, they are dismayed to find that not only is it dry, but there is a pregnant woman stranded there. She gives birth to a boy. Before she dies from her ordeal, she makes the three the child\\'s godfathers and begs them to take him to his father, Frank Edwards ... the cashier they murdered.\\nBob wants to abandon the boy, but the other two are determined to honor the woman\\'s request. They start walking the 40 miles to New Jerusalem. Weakened by his wound, Barbwire eventually can go no further. He makes the others continue on without him, then shoots himself. That night, they stop to rest. When Bob wakes up the next morning, he finds Bill gone. A note explains he left to conserve the little remaining water. Bob goes on, discarding his belongings along the way, including finally the loot. At one point, he leaves the baby, but then picks him up again. His strength gives out just as he reaches a poisoned water hole. Then, he comes up with a plan. He drinks his fill, knowing that he will have about an hour before it kills him. He stumbles into New Jerusalem\\'s church, where the congregation is celebrating Christmas. Then, his task completed, he dies without uttering a word.']\n",
            "\t0.192\t['The Little American', \"Karl Von Austreim (Jack Holt) lives in America with his German father and American mother. He notices a young lady, Angela More (Mary Pickford). As she is celebrating her birthday on the Fourth of July of 1914, she receives flowers from the French Count Jules De Destin (Raymond Hatton). They are interrupted by Karl, who also gives her a present. They soon battle for Angela's attention. To lose his competition, Count Jules arranges for Karl to be sent to Hamburg, where he will have to join his regiment. Angela is crushed when he announces he has to leave. The next day, Angela reads in the paper the Germans and French are at war and 10,000 Germans have been killed already.\\nThree months pass by without a word from Karl. Karl is wounded in the fighting. Word spreads that Germany will sink any ship which is thought to be carrying munitions to the Allies. Angela is aboard one of those ships when it is hit. Angela saves herself by climbing on a floating table and begging the attackers not to fire on the passengers. Angela is eventually rescued.\\nAfter weeks of ceaseless hammering from the German guns, the French fall back on Vangy. Angela arrives in Vangy as well to visit her aunt, only to discover she has died. The Old Prussians are bombing the city and Angela is requested to flee. However, she is determined to stay to nurse the wounded soldiers. Meanwhile, the Germans enter the chateau with the intention of getting drunk and enjoying themselves with the young women. A French soldier tries to help Angela escape, but she is unwilling to. He next asks her to let a French soldier spy on the Germans and inform the French via a secret hidden telephone. Angela is afraid, but gives them permission.\\nThe Germans are intent on raping Angela, who is the only person in the mansion not to be hidden. She reveals herself to be an American to save herself, but they do not believe her. Angela attempts to run away and hide, but is discovered by a German soldier who turns out to be Karl. Angela orders him to save the other women in the house, but Karl responds he cannot give orders to his fellow Germans. She realizes there is nothing she can do. With permission to leave the mansion, she witnesses the execution of the French soldiers. She is heartbroken and decides to go back in for revenge.\\nAngela secretly calls the French with the hidden telephone and informs them that there are three gun holders near the chateau. The French prepare themselves and attack the Germans. The Germans realize someone is giving the French information and Karl catches Angela. He tries to help her escape, but they are caught. The commander orders that Angela be shot. When Karl tries to save her, he is to sentenced to be executed as well for treason. As the couple face death, the French bomb the mansion, enabling Angela and Karl to escape. They are too weak to run and collapse near a statue of Jesus. The next day, they are found by French soldiers. They initially want to shoot Karl, but Angela begs them to set him free. They eventually allow her to fly back to America with Karl by her side as a German prisoner.\"]\n"
          ]
        }
      ]
    },
    {
      "cell_type": "code",
      "metadata": {
        "colab": {
          "base_uri": "https://localhost:8080/"
        },
        "id": "i09OgOIz8K-u",
        "outputId": "93f65397-ee44-40af-ccc0-a62e6c936e2c"
      },
      "source": [
        "search(query = \"Western romance\")"
      ],
      "execution_count": 43,
      "outputs": [
        {
          "output_type": "stream",
          "name": "stdout",
          "text": [
            "Input question: Western romance\n",
            "Results (after 0.037 seconds):\n",
            "\t0.293\t['Safety Last!', 'The film opens in 1922 with Harold Lloyd (the character has the same name as the actor) behind bars. His mother and his girlfriend, Mildred, are consoling him as a somber official and priest show up. The three of them walk toward what looks like a noose. It then becomes obvious they are at a train station and the \"noose\" is actually a trackside pickup hoop used by train crews to receive orders without stopping, and the bars are merely the ticket barrier. He promises to send for his girlfriend so they can get married once he has \"made good\" in the big city. Then he is off.\\nHe gets a job as a salesclerk at the De Vore Department Store, where he has to pull various stunts to get out of trouble with the picky and arrogantly self-important head floorwalker, Mr. Stubbs. He shares a rented room with his pal \"Limpy\" Bill, a construction worker.\\nWhen Harold finishes his shift, he sees an old friend from his hometown who is now a policeman walking the beat. After he leaves, Bill shows up. Bragging to Bill about his supposed influence with the police department, he persuades Bill to knock the policeman backwards over him while the man is using a callbox. When Bill does so, he knocks over the wrong policeman. To escape, he climbs up the façade of a building. The policeman tries to follow, but cannot get past the first floor; in frustration, he shouts at Bill, \"You\\'ll do time for this! The first time I lay eyes on you again, I\\'ll pinch you!\"\\nMeanwhile, Harold has been hiding his lack of success by sending his girlfriend expensive presents he cannot really afford. She mistakenly thinks he is successful enough to support a family and, with his mother\\'s encouragement, takes a train to join him. In his embarrassment, he has to pretend to be the general manager, even succeeding in impersonating him to get back at Stubbs. While going to retrieve her purse (which Mildred left in the manager\\'s office), he overhears the real general manager say he would give $1,000 to anyone who could attract people to the store. He remembers Bill\\'s talent and pitches the idea of having a man climb the \"12-story Bolton building\", which De Vore\\'s occupies. He gets Bill to agree to do it by offering him $500. The stunt is highly publicized and a large crowd gathers the next day.\\nWhen a drunkard shows \"The Law\" (the policeman who was pushed over) a newspaper story about the event, the lawman suspects Bill is going to be the climber. He waits at the starting point despite Harold\\'s frantic efforts to get him to leave. Finally, unable to wait any longer, Bill suggests Harold climb the first story himself and then switch his hat and coat with Bill, who will continue on from there. After Harold starts up, the policeman spots Bill and chases him into the building. Every time Harold tries to switch places with Bill, the policeman appears and chases Bill away. Each time, Bill tells his friend he will meet him on the next floor up. Eventually, Harold reaches the top, despite his troubles with a clock and some hungry pigeons, and kisses his girl.']\n",
            "\t0.276\t['The Knockout', 'Pug, a down-and-out hobo, is talked into pretending he is Cyclone Flynn, the boxing champion, and entering the ring for a fight. When the real Cyclone shows up, Pug ends up having to trade punches with him instead.']\n",
            "\t0.265\t['The Navigator', \"Wealthy Rollo Treadway (Buster Keaton) suddenly decides to propose to his neighbor across the street, Betsy O'Brien (Kathryn McGuire), and sends his servant to book passage for a honeymoon sea cruise to Honolulu. When Betsy rejects his sudden offer however, he decides to go on the trip anyway, boarding without delay that night. Because the pier number is partially covered, he ends up on the wrong ship, the Navigator, which Betsy's rich father (Frederick Vroom) has just sold to a small country at war.\\nAgents for the other small nation in the conflict decide to set the ship adrift that same night. When Betsy's father checks up on the ship, he is captured and tied up ashore by the saboteurs. Betsy hears his cry for help and boards the ship to look for him, just before it is cut loose.\\nThe Navigator drifts out into the Pacific Ocean. The two unwitting passengers eventually find each other. At first, they have great difficulty looking after themselves (as they had servants to do that for them), but adapt after a few weeks. At one point, they sight a navy ship and hoist a brightly colored flag, not realizing it signals that the ship is under quarantine. As a result, the other vessel turns away.\\nFinally, the ship grounds itself near an inhabited tropical island and springs a leak. While Rollo dons a deep sea diving suit and submerges to patch the hole, the natives canoe out and take Betsy captive. When Rollo emerges from the ocean, the natives are scared off, enabling him to rescue Betsy and take her back to the ship. The natives return and try to board the ship. After a fierce struggle, Rollo and Betsy try to escape in a small dinghy. It starts to sink, and the natives swiftly overtake them in their canoes. Just when all seems lost, a navy submarine surfaces right underneath them and they are saved.\"]\n",
            "\t0.259\t['Amarilly of Clothes-Line Alley', \"Set in San Francisco during the early 1900s, the film revolves around Amarilly (Mary Pickford), the daughter of a widowed scrubwoman. Amarilly is proud of her hard-working Irish family, and takes care of her five roughhouse brothers. She is engaged to bartender Terry McGowan (William Scott), who gets her a job as a cigarette girl in his cafe after a fire unfairly causes her to lose her job as a theater scrubwoman. While working as a cigarette girl, she meets Gordon Phillips (Norman Kerry), a handsome and wealthy but frivolous young man, who is a society sculptor.\\nTerry becomes jealous when Amarilly starts hanging out with Gordon, and he breaks off the engagement. Gordon offers Amarilly a job with his wealthy and snobbish aunt, Mrs. Phillips (Ida Waterman). When the neighborhood is quarantined after a breakout of scarlet fever, Mrs. Phillips decides to take the time to teach Amarilly high class manners in a Pygmalion-like experiment. However, once she discovers her nephew has fallen in love with Amarilly, she turns against her. Mrs. Phillips tries to humiliate Amarilly by inviting her family over for a social party.\\nAmarilly is outraged and returns to her old home. She sees Terry and invites him for supper. He is delighted, and on the way to her house, he stops to buy expensive 50 cent violets, even though he had earlier passed up violets at 15 cents. He is shot by accident, and barely makes it to Amarilly's house before collapsing. Fortunately, Terry survives. Amarilly visits him in the hospital and tells him that when he gets out, they have a date at City Hall.\\nThe final scene is five years later. Amarilly is in a side car on Terry's motor bike; they both are nicely dressed and seem to be doing well. Then it is revealed under the blanket she has a baby, and behind Terry is a little boy.\"]\n",
            "\t0.253\t['Mabel at the Wheel', 'Charlie offers Mabel a ride on his two-seater motorcycle, which she accepts in preference to his rival\\'s racing car. Unfortunately as they go over a bump, she falls off into a puddle. The rival, who has followed in his car, picks up the now stranded Mabel. He lets her drive, sitting tight beside her.\\nCharlie at last notices she is gone and falls off the bike. He sees them together now stopped and standing beside the car. They leave the car for a short while and Charlie lets down the rear tyre. His rival returns and is furious. They throw rocks at Charlie and he throws them back. The rival\\'s friend appears and gets caught up in the rock-throwing confusion.\\nWe cut to \"The Auto Race\" where Charlie hovers round the cars. The drivers usher him away when they see he has a sharp pin. Charlie stands puffing heavily on a cigarette. He uses his pin to get through the crowd, where he propositions Mabel and gets slapped. Charlie then whistles and two thugs appear and kidnap his rival just before the race starts. But Mabel decides to don his racing clothes and take the wheel in his place.\\nAs the race progresses, despite a very late start, Mabel, with a co-driver beside her, manages to gain a lead of three laps. Charlie with his henchmen, tries to sabotage the race by using oil and bombs on the track. The oil temporarily spins Mabel\\'s car, no.4, around and it goes backwards for a lap until the oil spins it around again to continue the right way. The car tips over on a bend but a group of men push the heavy Bentley V8 upright again. Meanwhile the rival escapes his ropes and sees Mabel driving his car. The crowd stand as she crosses the finishing line. The rival and his friend go to congratulate her. Meanwhile Charlie throws a bomb in the air and blows up both himself and his two thugs.']\n"
          ]
        }
      ]
    },
    {
      "cell_type": "code",
      "metadata": {
        "colab": {
          "base_uri": "https://localhost:8080/"
        },
        "id": "I34QJmac8MGm",
        "outputId": "391b7b9f-a0f3-4b9c-8ea2-295f81cb3492"
      },
      "source": [
        "search(query = \"Silent film about a Parisian star moving to Egypt, leaving her husband for a baron, and later reconciling after finding her family in poverty in Cairo.\")"
      ],
      "execution_count": 44,
      "outputs": [
        {
          "output_type": "stream",
          "name": "stdout",
          "text": [
            "Input question: Silent film about a Parisian star moving to Egypt, leaving her husband for a baron, and later reconciling after finding her family in poverty in Cairo.\n",
            "Results (after 0.017 seconds):\n",
            "\t0.258\t['Terrible Teddy, the Grizzly King', 'Lasting just 61 seconds and consisting of two shots, the first shot is set in a wood during winter. The actor representing then vice-president Theodore Roosevelt enthusiastically hurries down a hillside towards a tree in the foreground. He falls once, but rights himself and cocks his rifle. Two other men, bearing signs reading \"His Photographer\" and \"His Press Agent\" respectively, follow him into the shot; the photographer sets up his camera. \"Teddy\" aims his rifle upward at the tree and fells what appears to be a common house cat, which he then proceeds to stab. \"Teddy\" holds his prize aloft, and the press agent takes notes. The second shot is taken in a slightly different part of the wood, on a path. \"Teddy\" rides the path on his horse towards the camera and out to the left of the shot, followed closely by the press agent and photographer, still dutifully holding their signs.']\n",
            "\t0.247\t['Smouldering Fires', \"At 40, businesswoman Jane Vale (Pauline Frederick) falls in love with a much younger Robert Elliott (Malcolm McGregor), an employee from her factory. She promotes him to the position of her private secretary, and out of gratitude and to defend her reputation from rumors, he asks her to marry him. However, before the marriage can take place, Jane's younger sister Dorothy (Laura La Plante) returns home from college and Robert and Dorothy fall in love. Lacking the courage to confess to Jane of his love for her sister, Robert marries Jane. Robert finds that the difference in ages between him and Jane are creating complications. When Jane realizes that Robert, though diligently attentive as a husband, is actually in love with her sister, she pretends that she has fallen out of love with him and seeks a divorce.\"]\n",
            "\t0.215\t['Captain Alvarez', \"A melodrama about an American who becomes a revolutionary leader battling evil government spies in Argentina. William Desmond Taylor portrays the title role, and Denis Gage Deane-Tanner, Taylor's younger brother, is thought to have played the small role of a blacksmith.\"]\n",
            "\t0.197\t[\"Helen's Babies\", \"Toodie and Budge are identified as the two best children in the world. They enjoy a comfortable life with their parents Tom and Helen Lawrence. Helen's brother is Harry Burton, a wealthy bachelor who, although never having had one, is an expert on knowing how to raise children. When Tom and Helen receive a letter from Harry, in which he announces he will travel to them for a vacation, they see an opportunity to get a break from the kids. Knowing that Harry is an expert on children, they assume that he will appreciate the gesture and leave just after he arrives. Unbeknownst to them, Harry only wrote a book about raising children because his publisher told him to, and actually he isn't fond of children at all. He reluctantly takes the position as the babysitter of his nieces and is escorted by Alice Mayton, the Lawrence's attractive neighbor.\\nIt soon becomes clear that Harry won't get any rest, as the careless girls often annoy him by getting themselves into danger or going through his possessions. Many of the dangerous situations Toodie gets herself into include climbing a tree and attempting to shave herself. Although they always try to help him out, Toodie and Budge only make things worse. Harry is only irritated by their constant attempts to comfort him and isn't able to take advantage of his own advice on raising children. He writes Helen a letter, in which he threatens to abandon the girls if she doesn't return immediately. However, before he is able to send it he is interrupted by a visit from Alice. Alice has always been a big admirer of his work, but notices that he isn't a real expert on parenting. Giving him the benefit of the doubt, she invites him over for dinner.\\nHarry, secretly having a crush on Alice, accepts the invitation and shreds the letter into pieces. He wants to win over her affection at dinner and buys some fancy flowers. Unbeknownst to him, Toodie had secretly replaced the flowers with her doll. As he hands Alice the box, she is surprised to receive the doll, but thinks of it as a comic gesture. While Harry and Alice grow closer, the children run away to follow a dog they notice. Harry and Alice immediately start to look for them and they cross a group of Spanish gypsies. Noticing a piece of clothing on the ground belonging to one of the girls, Harry suspects that they have kidnapped the girls and violently starts to look for them.\\nMeanwhile, the girls are playing with the dog on the railroad tracks and are almost hit by a train. Coincidentally, Tom and Helen are traveling on that train to surprise the girls with an early return. They are devastated that their daughters almost died and think that Harry is fully responsible. They start yelling at Harry, until they find out how fond the daughters are of him. The film ends with Harry and Alice kissing each other.\"]\n",
            "\t0.183\t['My Boy', 'Seven-year-old Jackie Blair (Coogan), the son of poor immigrants, is orphaned and, leaving Ellis Island, finds his way into the home of a hardbitten ex-seaman, Captain Bill. Despite his initial misgivings, the Captain grows fond of the boy. Tension mounts when officials attempt to take Jackie away for deportation, and the Captain tries to find a way to keep him safe.[1]']\n"
          ]
        }
      ]
    },
    {
      "cell_type": "code",
      "metadata": {
        "colab": {
          "base_uri": "https://localhost:8080/"
        },
        "id": "07Y5IlfY8NYO",
        "outputId": "801058f5-003d-43aa-8de4-9f2223636610"
      },
      "source": [
        "search(query = \"Comedy film, office disguises, boss's daughter, elopement.\")"
      ],
      "execution_count": 45,
      "outputs": [
        {
          "output_type": "stream",
          "name": "stdout",
          "text": [
            "Input question: Comedy film, office disguises, boss's daughter, elopement.\n",
            "Results (after 0.019 seconds):\n",
            "\t0.312\t['Terrible Teddy, the Grizzly King', 'Lasting just 61 seconds and consisting of two shots, the first shot is set in a wood during winter. The actor representing then vice-president Theodore Roosevelt enthusiastically hurries down a hillside towards a tree in the foreground. He falls once, but rights himself and cocks his rifle. Two other men, bearing signs reading \"His Photographer\" and \"His Press Agent\" respectively, follow him into the shot; the photographer sets up his camera. \"Teddy\" aims his rifle upward at the tree and fells what appears to be a common house cat, which he then proceeds to stab. \"Teddy\" holds his prize aloft, and the press agent takes notes. The second shot is taken in a slightly different part of the wood, on a path. \"Teddy\" rides the path on his horse towards the camera and out to the left of the shot, followed closely by the press agent and photographer, still dutifully holding their signs.']\n",
            "\t0.258\t['Work', \"Charlie is an assistant to Izzy A. Wake, a painter and paper hanger. The two men are on their way to a job via a cart. The boss rides in the cart, leisurely sitting atop all their paraphernalia, while Charlie is hitched to the cart like a mule. The boss also treats Charlie like a mule, beating him with a stick to get him to move faster. When the boss opts to take a shortcut up a steep hill, the out-of-control cart descends and is nearly hit by an oncoming streetcar. A second attempt to scale the enormous hill is successful. At the house they are to paper, Charlie becomes distracted by the pretty maid. The boss has a misadventure and falls, his head ending up in a bucket of paste. Meanwhile, the short-tempered homeowner is contending with the threat of an exploding stove and an amorous French visitor who is making passes at his wife. Shots are fired—and the target turns out to be Charlie who has been enjoying the maid's company. An enraged Charlie gives the Frenchman, his boss, and the homeowner each a face full of paste. As the fight moves into the kitchen, the troublesome stove finally explodes. When the dust dies down, Charlie is nowhere to be seen. Slowly the oven door opens. Charlie looks out and retreats back into the stove.\"]\n",
            "\t0.246\t['The Mark of Zorro', 'The Mark of Zorro tells the story of Don Diego Vega, the outwardly foppish son of a wealthy ranchero Don Alejandro in the old Spanish California of the early 19th century. Seeing the mistreatment of the peons by rich landowners and the oppressive colonial government, Don Diego, who is not as effete as he pretends, has taken the identity of the masked Robin Hood-like rogue Señor Zorro (\"Mr. Fox\"), champion of the people, who appears out of nowhere to protect them from the corrupt administration of Governor Alvarado, his henchman the villainous Captain Juan Ramon and the brutish Sergeant Pedro Gonzales (Noah Beery, Wallace Beery\\'s older half-brother). With his sword flashing and an athletic sense of humor, Zorro scars the faces of evildoers with his mark, \"Z\".\\nWhen not in the disguise of Zorro, dueling and rescuing peons, Don Diego courts the beautiful Lolita Pulido with bad magic tricks and worse manners. She cannot stand him. Lolita is also courted by Captain Ramon; and by the dashing Zorro, whom she likes.\\nIn the end, when Lolita\\'s family is jailed, Don Diego throws off his masquerade, whips out his sword, wins over the soldiers to his side, forces Governor Alvarado to abdicate, and wins the hand of Lolita, who is delighted to discover that her effeminate suitor, Diego, is actually the dashing hero.']\n",
            "\t0.243\t['Foolish Wives', 'The silent drama tells the story of a man who names himself Count Wladislaw Sergius Karamzin (von Stroheim) in order to seduce rich women and extort money from them.\\nHe has set up shop in Monte Carlo and his partners in crime (and possible lovers) are his cousins: \"Princess\" Vera Petchnikoff (Busch) and \"Her Highness\" Olga Petchnikoff (George).\\nCount Karamzin begins his latest scam on the unworldly wife of an American envoy, Helen Hughes (DuPont), even though her husband is nearby. He attempts to charm her, planning to eventually fleece her of her money. She is easily impressed by his faux-aristocratic glamor, to the chagrin of her dull but sincere husband. Karamzin also has his eye on two other women, Maruschka (Fuller), a maid at the hotel, and Marietta (Polo) the mentally disabled daughter of one of his criminal associates (Gravina), seeing them both as easy sexual prey.\\nIn the climax of the film Maruschka, the maid he has seduced and abandoned, goes mad and sets fire to a building in which Karamzin and Mrs Hughes are trapped. Karamzin jumps to save himself, leaving Mrs Hughes in danger. She is saved, and is looked after by her devoted husband. Karamzin\\'s public display of selfish cowardice ensures he is shunned by the high society he craves to be accepted by. Humiliated, he tries to restore his pride by seducing Marietta, the mentally disabled girl. Her father kills him, dumping his body in a sewer. Karamzin\\'s \"cousins\" are arrested for being imposters and con-artists.']\n",
            "\t0.230\t['My Boy', 'Seven-year-old Jackie Blair (Coogan), the son of poor immigrants, is orphaned and, leaving Ellis Island, finds his way into the home of a hardbitten ex-seaman, Captain Bill. Despite his initial misgivings, the Captain grows fond of the boy. Tension mounts when officials attempt to take Jackie away for deportation, and the Captain tries to find a way to keep him safe.[1]']\n"
          ]
        }
      ]
    },
    {
      "cell_type": "code",
      "metadata": {
        "colab": {
          "base_uri": "https://localhost:8080/"
        },
        "id": "-Vwl92Sj8OfH",
        "outputId": "a84a6065-6a19-49e1-cceb-a8e3b8da2041"
      },
      "source": [
        "search(query = \"Lost film, Cleopatra charms Caesar, plots world rule, treasures from mummy, revels with Antony, tragic end with serpent in Alexandria.\")"
      ],
      "execution_count": 46,
      "outputs": [
        {
          "output_type": "stream",
          "name": "stdout",
          "text": [
            "Input question: Lost film, Cleopatra charms Caesar, plots world rule, treasures from mummy, revels with Antony, tragic end with serpent in Alexandria.\n",
            "Results (after 0.014 seconds):\n",
            "\t0.266\t['Honky Tonk', \"Sophie Tucker plays Sophie Leonard, a singer in a nightclub who at great sacrifice sends her daughter Beth (Lila Lee) to Europe to be educated, keeping her work as an entertainer a secret from her. When the grown-up, expensively educated Beth returns to America, she is shocked to discover her mother's true profession and disowns her, breaking Sophie's heart.\"]\n",
            "\t0.202\t['The Bishop Murder Case', 'Looking out from his private balcony, elderly Prof. Dillard and his servant see the body of family friend Joseph Robin with an arrow in his chest. Dillard calls district attorney Markham, who brings in private detective Philo Vance and lazy police detective Heath. Vance quickly deduces that the arrow scene was staged (Robin was actually bludgeoned inside the house), but there is no obvious suspect.\\nVance and the others repeatedly interview Dillard and his friends and neighbors. Living with Dillard is his niece Belle; Dillard\\'s adopted son, Sigurd Arnesson, who is also Belle\\'s boyfriend, returns from college on hearing of the crime. In the next house are the Drukkers, a brother and sister: she feels responsible for a serious injury he still suffers from, and is now very frail and agoraphobic. She says she saw nothing of the crime; her brother says he heard her screaming in her room, which she denies. He also admits to being in Dillard\\'s house before the murder. Another neighbor is John Pardee, a chess enthusiast, who seems to be overly interested in the case.\\nA taunting typewritten note is found, signed \"The Bishop\". It alludes to the nursery rhyme \"Cock Robin\": Robin was nicknamed Cock Robin, and another visitor at the house that day was named Sperling—German for \"Sparrow\". However, Sperling eventually proves to have a solid alibi. Dillard has no typewriter in the house, and neither Drukker\\'s nor Bishop\\'s matches the note.\\nLater a friend of Arnesson\\'s, named John, is found murdered. He was shot in the top of the head, apparently in allusion to Jack\\'s injury in the rhyme \"Jack and Jill\". Then Drukker, sitting on a low wall in a park at night, is pulled off the wall and murdered. \"The Bishop\" continues sending notes about each crime, connecting the last one to \"Humpty Dumpty\". Drukker\\'s sister is found dead also, perhaps from fright, and a valuable notebook about his research work is missing from their home. A chess bishop has been left in her hand.\\nHeath and Markham become suspicious of Pardee and go to arrest him, but find him dead. Next to his body, obviously built after he died, is a house of cards with a chess bishop on top: it is \"This Is the House That Jack Built\". Later, Dillard expresses some misgivings about Arnesson, and mentions the Henrik Ibsen play The Pretenders, which Arnesson is fond of.\\nThat night, after Belle says goodnight to Arnesson, she makes her way into the attic and finds the typewriter that \"The Bishop\" used for his notes. At this point she is jumped from behind.\\nMulling over Dillard\\'s words later that night, Vance suddenly realizes that one of the characters in The Pretenders is a bishop—named Arnesson. He rushes back to Dillard\\'s house together with Markham, Heath, and more police. Arnesson\\'s window is open and neither he nor Belle is in their room. Dillard joins the group to search the house, breaking down the locked door to the attic. There they find the typewriter, but not Belle, who is lying bound and gagged in a nearby cupola.\\nDownstairs, they are talking to Dillard when Arnesson returns. When Vance accuses him, he acts guilty. Meanwhile Dillard surreptitiously pours some powder from a compartment in his ring into a wine glass. As things calm down and Arnesson is about to be arrested, Dillard offers him a glass, then pours more wine for himself; but Vance announces that he has switched the glasses.\\nDillard is the murderer, and was trying to fake Arnesson\\'s suicide. He wanted to be Belle\\'s only friend. He originally only intended to kill Robin and frame Arnesson, but developed the more elaborate scheme when he realized Miss Drukker must have witnessed his actions. Vance had tipped Arnesson to act guilty, and had Heath search the cupola after Dillard left the attic; Belle is fine.\\nArnesson and Belle embrace, and Vance stops Heath from carelessly drinking the poison.']\n",
            "\t0.194\t['Dr. Jack', 'The Sick-Little-Well-Girl (played by Mildred Davis) has been wrapped in cotton wool all her life. At the sign of the slightest sniffle or cough, she is packed off to bed and each time, the stuffy (and expensive) Dr Ludwig von Saulsbourg (Eric Mayne) is called to attend to her.\\nIn another town lives Doctor Jackson (Harold Lloyd), a friendly and altruistic doctor who is liked by everyone in town. He utilises common sense when curing the citizens of any ills.\\nSoon, Doctor Jack discovers that von Saulsbourg has been playing on The Sick-Little-Well-Girl\\'s non-illness, charging the girl\\'s father exorbitant amounts of money to \"treat\" her. With Jack\\'s intervention, von Saulsbourg is sent packing.']\n",
            "\t0.193\t['Woman Trap', \"Dan, a tough police captain, and Ray, a hardened criminal, are estranged brothers. When Ray faces capture, Kitty, the sister of Ray's ex-partner (whom Dan helped to convict), offers to help him escape because she sees an opportunity for revenge against Dan. She notifies the police and Dan of Ray's whereabouts, regretting her actions too late to prevent their capture. To avert arrest by his brother, Ray commits suicide. Kitty consoles Dan in his grief, and they come to an understanding over Ray's body.\"]\n",
            "\t0.190\t['The Musketeers of Pig Alley', \"The film is about a poor married couple living in New York City. The husband works as a musician and must often travel for work. When returning, his wallet is taken by a gangster. His wife goes to a ball where a man tries to drug her, but his attempt is stopped by the same man who robbed the husband. The two criminals become rivals, and a shootout ensues. The husband gets caught in the shootout and recognizes one of the men as the gangster who took his money. The husband sneaks his wallet back and the gangster goes to safety in the couple's apartment. Policemen track the gangster down but the wife gives him a false alibi.\"]\n"
          ]
        }
      ]
    },
    {
      "cell_type": "code",
      "metadata": {
        "colab": {
          "base_uri": "https://localhost:8080/"
        },
        "id": "8ctUiLrj8Qjv",
        "outputId": "3b282121-a1e5-49c3-90b4-eda1b2446075"
      },
      "source": [
        "search(query = \"Denis Gage Deane-Tanner\")"
      ],
      "execution_count": 47,
      "outputs": [
        {
          "output_type": "stream",
          "name": "stdout",
          "text": [
            "Input question: Denis Gage Deane-Tanner\n",
            "Results (after 0.017 seconds):\n",
            "\t0.343\t['Feet First', \"Harold Horne, an ambitious shoe salesman in Honolulu, unknowingly meets the boss' secretary Barbara (Barbara Kent) - thinking she is the boss' daughter - and tells her he is a millionaire leather tycoon.\\nHorne spends much of his time around Barbara hiding his true circumstances, in both the shoe store and later as an (accidental) stowaway on board a ship. Trying to evade the ship's crew, he becomes trapped in a mailbag, which is taken off the ship and falls off a delivery cart onto a window cleaner's cradle, which is hoisted upwards. Escaping from the bag, he finds himself dangling high above the streets of Los Angeles. After several thwarted attempts to get inside the building, he climbs to the very top, only to slip off - unaware his foot is caught on the end of a rope, which rescues him inches from the ground.\"]\n",
            "\t0.250\t['Close Harmony', 'A musically talented young woman named Marjorie who is part of a stage show, meets a warehouse clerk named Al West who has put together an unusual jazz band. She becomes interested in him and his work and so manages to use her influence to get him into the program for one of the shows at her theatre company.\\nThe manager, Max Mindel has a dislike towards Marjorie so after discovering her affection towards Al, he gives the band notice and hires harmony singers Barney and Bey as a replacement. Marjorie makes up to both men and soon breaks up the duo, getting rid of the competition. Al learns of her scheme, and makes her confess to the singers of her deeds. Barney and Bey make up, and Max gives Al and his band one more chance. Al is a sensation, and Max offers him a contract for $1,000 a week.']\n",
            "\t0.237\t['The Case of Lena Smith', \"In turn-of-the-century Vienna, simple peasant girl Lena Smith falls in love with young aristocrat Franz Hofrat. They are secretly married, despite intense pressure from Hofrat's aristocratic family, and Lena has Franz's child. Slowly but surely, Lena's good nature and unbounded optimism are crushed and shattered by the merciless juggernaut of class consciousness and public opinion, leading to tragedy. Her husband was jailed for the murder of his brother. Lena met Horan Duwent who promised her a life of wonder, pure happiness. But sadly nothing prevailed, he was not a man of his word and 2 years later Lena took her own life. Crushed by the man she finally felt loved and adored by after so many years of troth and sadness.\\nIn the original script, Lena Smith was a prostitute, but this was written out to avoid audience animosity against the character, and to conform to an early version of the Production Code.\"]\n",
            "\t0.188\t['The Smart Set', 'A self-centered polo player (Haines) has to redeem himself after he is kicked off the U.S. team.']\n",
            "\t0.172\t['The Lucky Dog', \"A hapless hero (Laurel), who after being thrown out onto the street for not paying his rent, is befriended by a stray dog. The dog and young man then (literally) bumps into a robber (Hardy) who is holding someone up. The bandit, who in the process has accidentally placed his victim’s money into the young man's back pocket, turns from his first victim, who runs off, to rob Stan. The robber then steals the money he had already stolen, from the bemused young man who had thought he was broke.\\nThe young man and the dog escape and the dog makes friends with a poodle. The poodle’s lady owner (Florence Gillet) persuades the young man to enter his dog into the local dog show. When his entry is refused, the young man sneaks in anyway, but is quickly thrown out, followed by all the dogs in the show. The young man spots the poodle’s owner outside looking for her dog and offers his dog in its place. She accepts and in turn offers him a lift to her home. This scene is witnessed by her jealous boyfriend, who happens to bump into the bandit and together the two plot their revenge on the young man.\\nAt the lady's house, the young man is introduced to the boyfriend and the bandit, in disguise as the Count de Chease of Switzerland. The boyfriend proposes and is refused while the bandit attempts to shoot the young man only to have the gun jam. The boyfriend chases the lady around the house while the bandit tries to blow up the young man with a stick of dynamite. The dog comes to the rescue, chasing the bandit and the boyfriend into the garden with the dynamite and leaving them to be blown up.\"]\n"
          ]
        }
      ]
    },
    {
      "cell_type": "code",
      "metadata": {
        "colab": {
          "base_uri": "https://localhost:8080/"
        },
        "id": "uGm4v0MeBYUa",
        "outputId": "e074d983-8f46-4242-f4e4-577f20fe83e2"
      },
      "source": [
        "# Ground truth films for each query\n",
        "ground_truth_films = {\n",
        "    \"Documentaries showcasing indigenous peoples' survival and daily life in Arctic regions\": [\n",
        "        \"Nanook of the North\",\n",
        "    ]\n",
        "}\n",
        "\n",
        "# Search results\n",
        "search_results = {\n",
        "    \"Documentaries showcasing indigenous peoples' survival and daily life in Arctic regions\": [\n",
        "        {'score': 0.317, 'passage': ['Terrible Teddy, the Grizzly King', 'Lasting just 61 seconds and consisting of two shots, the first shot is set in a wood during winter. The actor representing then vice-president Theodore Roosevelt enthusiastically hurries down a hillside towards a tree in the foreground. He falls once, but rights himself and cocks his rifle. Two other men, bearing signs reading \"His Photographer\" and \"His Press Agent\" respectively, follow him into the shot; the photographer sets up his camera. \"Teddy\" aims his rifle upward at the tree and fells what appears to be a common house cat, which he then proceeds to stab. \"Teddy\" holds his prize aloft, and the press agent takes notes. The second shot is taken in a slightly different part of the wood, on a path. \"Teddy\" rides the path on his horse towards the camera and out to the left of the shot, followed closely by the press agent and photographer, still dutifully holding their signs.']},\n",
        "        {'score': 0.210, 'passage': ['Lucky Star', \"Timothy Osborn (Farrell) and Martin Wrenn (Williams) work as linemen for an utility in a rural area. Both flirt with Mary Tucker (Gaynor) who is the daughter of a widowed dairy farmer, As the film begins it is 1917, and America becomes involved in World War I. Both men join the U.S. Army. While on the battlefield, Wrenn and Osborn serve in the same unit, and Wrenn is a sergeant. Ordered to deliver food to men at the front, Wrenn instead purloins the truck that was to be used for the delivery for personal use, and Osborn uses a horse-drawn wagon to deliver the food. While going to the front he is injured by shellfire. Both men return home, and Osborn is now confined to a wheelchair. He and Wrenn vie for Mary's affection. She becomes attached to Osborn and visits him every day. Wrenn, who had been kicked out of the Army, uses money and guile to win over Mary's mother, who pressures her to marry Wrenn. She stops seeing Osborn and agrees to marry Wrenn. In the end, Osborn regains some use of his legs, walks through snow to confront Wrenn just before he is about to wed Mary. Townspeople intervene in their fight and put Wrenn on a train out of town. Osborn reunites with Mary\"]},\n",
        "        {'score': 0.198, 'passage': ['Shoulder Arms', 'Charlie is in boot camp in the \"\"awkward squad.\"\" Once in France he gets no letters from home. He finally gets a package containing limburger cheese which requires a gas mask and which he throws over into the German trench. He goes \"\"over the top\"\" and captures thirteen Germans (\"\"I surrounded them\"\"), then volunteers to wander through the German lines disguised as a tree trunk. With the help of a French girl he captures the Kaiser and the Crown Prince and is given a statue and victory parade in New York and then ... fellow soldiers wake him from his dream.']},\n",
        "        {'score': 0.192, 'passage': [\"Hell's Heroes\", \"Four men, Bob Sangster, \"\"Barbwire\"\" Gibbons, \"\"Wild Bill\"\" Kearney, and José, rob the bank in the town of New Jerusalem. José and the cashier is killed, while Barbwire is shot in the shoulder. The three outlaws escape the posse, fleeing into the desert. However, their horses die and they have little water. When they reach a water hole, they are dismayed to find that not only is it dry, but there is a pregnant woman stranded there. She gives birth to a boy. Before she dies from her ordeal, she makes the three the child's godfathers and begs them to take him to his father, Frank Edwards ... the cashier they murdered. Bob wants to abandon the boy, but the other two are determined to honor the woman's request. They start walking the 40 miles to New Jerusalem. Weakened by his wound, Barbwire eventually can go no further. He makes the others continue on without him, then shoots himself. That night, they stop to rest. When Bob wakes up the next morning, he finds Bill gone. A note explains he left to conserve the little remaining water. Bob goes on, discarding his belongings along the way, including finally the loot. At one point, he leaves the baby, but then picks him up again. His strength gives out just as he reaches a poisoned water hole. Then, he comes up with a plan. He drinks his fill, knowing that he will have about an hour before it kills him. He stumbles into New Jerusalem's church, where the congregation is celebrating Christmas. Then, his task completed, he dies without uttering a word.'\"]},\n",
        "        {'score': 0.192, 'passage': ['The Little American', \"Karl Von Austreim (Jack Holt) lives in America with his German father and American mother. He notices a young lady, Angela More (Mary Pickford). As she is celebrating her birthday on the Fourth of July of 1914, she receives flowers from the French Count Jules De Destin (Raymond Hatton). They are interrupted by Karl, who also gives her a present. They soon battle for Angela's attention. To lose his competition, Count Jules arranges for Karl to be sent to Hamburg, where he will have to join his regiment. Angela is crushed when he announces he has to leave. The next day, Angela reads in the paper the Germans and French are at war and 10,000 Germans have been killed already. Three months pass by without a word from Karl. Karl is wounded in the fighting. Word spreads that Germany will sink any ship which is thought to be carrying munitions to the Allies. Angela is aboard one of those ships when it is hit. Angela saves herself by climbing on a floating table and begging the attackers not to fire on the passengers. Angela is eventually rescued. After weeks of ceaseless hammering from the German guns, the French fall back on Vangy. Angela arrives in Vangy as well to visit her aunt, only to discover she has died. The Old Prussians are bombing the city and Angela is requested to flee. However, she is determined to stay to nurse the wounded soldiers. Meanwhile, the Germans enter the chateau with the intention of getting drunk and enjoying themselves with the young women. A French soldier tries to help Angela escape, but she is unwilling to. He next asks her to let a French soldier spy on the Germans and inform the French via a secret hidden telephone. Angela is afraid, but gives them permission. The Germans are intent on raping Angela, who is the only person in the mansion not to be hidden. She reveals herself to be an American to save herself, but they do not believe her. Angela attempts to run away and hide, but is discovered by a German soldier who turns out to be Karl. Angela orders him to save the other women in the house, but Karl responds he cannot give orders to his fellow Germans. She realizes there is nothing she can do. With permission to leave the mansion, she witnesses the execution of the French soldiers. She is heartbroken and decides to go back in for revenge. Angela secretly calls the French with the hidden telephone and informs them that there are three gun holders near the chateau. The French prepare themselves and attack the Germans. The Germans realize someone is giving the French information and Karl catches Angela. He tries to help her escape, but they are caught. The commander orders that Angela be shot. When Karl tries to save her, he is to sentenced to be executed as well for treason. As the couple face death, the French bomb the mansion, enabling Angela and Karl to escape. They are too weak to run and collapse near a statue of Jesus. The next day, they are found by French soldiers. They initially want to shoot Karl, but Angela begs them to set him free. They eventually allow her to fly back to America with Karl by her side as a German prisoner.\"]}\n",
        "    ]\n",
        "}\n",
        "\n",
        "# Calculate Recall@1 and MRR\n",
        "recall_1_sum = 0\n",
        "mrr_sum = 0\n",
        "total_queries = len(search_results)\n",
        "\n",
        "for query, results in search_results.items():\n",
        "    relevant_films = ground_truth_films.get(query, [])\n",
        "    top_result = results[0] if results else None\n",
        "    if top_result and relevant_films and top_result['passage'][0] in relevant_films:\n",
        "        recall_1_sum += 1\n",
        "        rank_first_relevant = next((i + 1 for i, doc in enumerate(results) if doc['passage'][0] in relevant_films), 0)\n",
        "        mrr_sum += 1 / rank_first_relevant if rank_first_relevant else 0\n",
        "\n",
        "recall_1 = recall_1_sum / total_queries\n",
        "mrr = mrr_sum / total_queries\n",
        "\n",
        "print(\"Recall@1:\", recall_1)\n",
        "print(\"MRR:\", mrr)\n"
      ],
      "execution_count": 53,
      "outputs": [
        {
          "output_type": "stream",
          "name": "stdout",
          "text": [
            "Recall@1: 0.0\n",
            "MRR: 0.0\n"
          ]
        }
      ]
    }
  ]
}